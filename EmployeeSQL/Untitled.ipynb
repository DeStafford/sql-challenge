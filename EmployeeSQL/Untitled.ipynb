{
 "cells": [
  {
   "cell_type": "markdown",
   "id": "cc239da1",
   "metadata": {},
   "source": [
    "Analysis:\n",
    "\n",
    "---\n",
    "\n",
    "Query 1: List the employee number, last name, first name, sex, and salary of each employee.\n",
    "\n",
    "SELECT sal.emp_no, emp.last_name, emp.first_name, emp.sex, sal.salary \n",
    "FROM employees as emp \n",
    "INNER JOIN salaries as sal \n",
    "ON emp.emp_no = sal.emp_no;\n",
    "\n",
    "---\n",
    "\n",
    "\n",
    "\n"
   ]
  },
  {
   "cell_type": "code",
   "execution_count": null,
   "id": "9622c9a9",
   "metadata": {},
   "outputs": [],
   "source": []
  }
 ],
 "metadata": {
  "kernelspec": {
   "display_name": "Python 3 (ipykernel)",
   "language": "python",
   "name": "python3"
  },
  "language_info": {
   "codemirror_mode": {
    "name": "ipython",
    "version": 3
   },
   "file_extension": ".py",
   "mimetype": "text/x-python",
   "name": "python",
   "nbconvert_exporter": "python",
   "pygments_lexer": "ipython3",
   "version": "3.11.5"
  }
 },
 "nbformat": 4,
 "nbformat_minor": 5
}
